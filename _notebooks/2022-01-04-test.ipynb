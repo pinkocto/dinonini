{
 "cells": [
  {
   "cell_type": "markdown",
   "id": "510fb529-fe92-4257-8c66-9b76f388bc91",
   "metadata": {},
   "source": [
    "# test\n",
    "> \"작업중\"\n",
    "\n",
    "- toc: true \n",
    "- comments: true\n",
    "- author: dionini\n",
    "- categories: [python]"
   ]
  },
  {
   "cell_type": "code",
   "execution_count": 1,
   "id": "43177cf8-fc8d-4d93-aaed-3630b81c2e2e",
   "metadata": {},
   "outputs": [
    {
     "data": {
      "text/plain": [
       "2"
      ]
     },
     "execution_count": 1,
     "metadata": {},
     "output_type": "execute_result"
    }
   ],
   "source": [
    "1+1"
   ]
  },
  {
   "cell_type": "code",
   "execution_count": 2,
   "id": "5f51f91e-8c4d-41e0-8f8a-1461c4913c17",
   "metadata": {},
   "outputs": [
    {
     "data": {
      "text/plain": [
       "3"
      ]
     },
     "execution_count": 2,
     "metadata": {},
     "output_type": "execute_result"
    }
   ],
   "source": [
    "2+1"
   ]
  },
  {
   "cell_type": "code",
   "execution_count": 6,
   "id": "9e227a98-cbdf-4616-938c-5bf5cad1aaeb",
   "metadata": {},
   "outputs": [
    {
     "data": {
      "text/plain": [
       "5"
      ]
     },
     "execution_count": 6,
     "metadata": {},
     "output_type": "execute_result"
    }
   ],
   "source": [
    "10//2 #몫"
   ]
  },
  {
   "cell_type": "code",
   "execution_count": 5,
   "id": "453ef78a-dbac-438b-81f0-ec1099dd87c6",
   "metadata": {},
   "outputs": [
    {
     "data": {
      "text/plain": [
       "2"
      ]
     },
     "execution_count": 5,
     "metadata": {},
     "output_type": "execute_result"
    }
   ],
   "source": [
    "50%3 # 나머지"
   ]
  },
  {
   "cell_type": "code",
   "execution_count": null,
   "id": "b76ed507-ac4a-431c-baca-8cc916d5fab1",
   "metadata": {},
   "outputs": [],
   "source": []
  }
 ],
 "metadata": {
  "kernelspec": {
   "display_name": "Python 3 (ipykernel)",
   "language": "python",
   "name": "python3"
  },
  "language_info": {
   "codemirror_mode": {
    "name": "ipython",
    "version": 3
   },
   "file_extension": ".py",
   "mimetype": "text/x-python",
   "name": "python",
   "nbconvert_exporter": "python",
   "pygments_lexer": "ipython3",
   "version": "3.8.11"
  }
 },
 "nbformat": 4,
 "nbformat_minor": 5
}
